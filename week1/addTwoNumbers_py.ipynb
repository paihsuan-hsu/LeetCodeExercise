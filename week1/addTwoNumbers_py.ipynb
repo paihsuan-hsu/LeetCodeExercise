{
  "nbformat": 4,
  "nbformat_minor": 0,
  "metadata": {
    "colab": {
      "provenance": [],
      "authorship_tag": "ABX9TyN4eSm7A8GyOZWNJ0fAtKvt",
      "include_colab_link": true
    },
    "kernelspec": {
      "name": "python3",
      "display_name": "Python 3"
    },
    "language_info": {
      "name": "python"
    }
  },
  "cells": [
    {
      "cell_type": "markdown",
      "metadata": {
        "id": "view-in-github",
        "colab_type": "text"
      },
      "source": [
        "<a href=\"https://colab.research.google.com/github/paihsuan-hsu/LeetCodeExercise/blob/main/week1/addTwoNumbers_py.ipynb\" target=\"_parent\"><img src=\"https://colab.research.google.com/assets/colab-badge.svg\" alt=\"Open In Colab\"/></a>"
      ]
    },
    {
      "cell_type": "code",
      "source": [
        "!pip install typing\n",
        "import typing\n",
        "def maxArea(self, height: typing.List[int]) -> int:\n",
        "        l = 0\n",
        "        r = len(height)-1\n",
        "        max_area = 0\n",
        "        area = 0\n",
        "\n",
        "        while l < r:\n",
        "            area = (r-l) * min(height[r], height[l])\n",
        "            max_area = max(max_area, area)\n",
        "            if height[l] < height[r]:\n",
        "                l+=1\n",
        "            else:\n",
        "                r-=1\n",
        "\n",
        "        return max_area"
      ],
      "metadata": {
        "id": "kCD1cVUhdv7B"
      },
      "execution_count": null,
      "outputs": []
    }
  ]
}